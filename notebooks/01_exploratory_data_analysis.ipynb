{
 "cells": [
  {
   "cell_type": "code",
   "execution_count": 11,
   "id": "b41548de-509f-4d0f-80f5-894925576e90",
   "metadata": {},
   "outputs": [],
   "source": [
    "import pandas as pd\n",
    "import matplotlib.pyplot as plt"
   ]
  },
  {
   "cell_type": "markdown",
   "id": "2b348937-ee8d-469d-affb-f7a59809ea8e",
   "metadata": {},
   "source": [
    "## Load Clean Datasets"
   ]
  },
  {
   "cell_type": "code",
   "execution_count": 79,
   "id": "f38fa3e5-5ed4-44e5-8ba8-46f47d29f213",
   "metadata": {},
   "outputs": [],
   "source": [
    "ratings = pd.read_csv('../data/processed/02_cleaned_ratings.csv')\n",
    "books = pd.read_csv('../data/processed/01_cleaned_books.csv')\n",
    "tags = pd.read_csv('../data/processed/03_cleaned_tags.csv')\n",
    "book_tags = pd.read_csv('../data/processed/04_cleaned_book_tags.csv')\n"
   ]
  },
  {
   "cell_type": "markdown",
   "id": "154d1d74-48b7-4ebb-aeeb-e9341bdfd8b9",
   "metadata": {},
   "source": [
    "## Overview of the Ratings Dataset"
   ]
  },
  {
   "cell_type": "code",
   "execution_count": 35,
   "id": "6a70120d-992b-4665-95f9-e89d0222956b",
   "metadata": {},
   "outputs": [
    {
     "name": "stdout",
     "output_type": "stream",
     "text": [
      "Shape: (5976479, 3)\n",
      "Columns: ['user_id', 'book_id', 'rating']\n"
     ]
    },
    {
     "data": {
      "text/html": [
       "<div>\n",
       "<style scoped>\n",
       "    .dataframe tbody tr th:only-of-type {\n",
       "        vertical-align: middle;\n",
       "    }\n",
       "\n",
       "    .dataframe tbody tr th {\n",
       "        vertical-align: top;\n",
       "    }\n",
       "\n",
       "    .dataframe thead th {\n",
       "        text-align: right;\n",
       "    }\n",
       "</style>\n",
       "<table border=\"1\" class=\"dataframe\">\n",
       "  <thead>\n",
       "    <tr style=\"text-align: right;\">\n",
       "      <th></th>\n",
       "      <th>user_id</th>\n",
       "      <th>book_id</th>\n",
       "      <th>rating</th>\n",
       "    </tr>\n",
       "  </thead>\n",
       "  <tbody>\n",
       "    <tr>\n",
       "      <th>0</th>\n",
       "      <td>1</td>\n",
       "      <td>258</td>\n",
       "      <td>5</td>\n",
       "    </tr>\n",
       "    <tr>\n",
       "      <th>1</th>\n",
       "      <td>2</td>\n",
       "      <td>4081</td>\n",
       "      <td>4</td>\n",
       "    </tr>\n",
       "    <tr>\n",
       "      <th>2</th>\n",
       "      <td>2</td>\n",
       "      <td>260</td>\n",
       "      <td>5</td>\n",
       "    </tr>\n",
       "    <tr>\n",
       "      <th>3</th>\n",
       "      <td>2</td>\n",
       "      <td>9296</td>\n",
       "      <td>5</td>\n",
       "    </tr>\n",
       "    <tr>\n",
       "      <th>4</th>\n",
       "      <td>2</td>\n",
       "      <td>2318</td>\n",
       "      <td>3</td>\n",
       "    </tr>\n",
       "  </tbody>\n",
       "</table>\n",
       "</div>"
      ],
      "text/plain": [
       "   user_id  book_id  rating\n",
       "0        1      258       5\n",
       "1        2     4081       4\n",
       "2        2      260       5\n",
       "3        2     9296       5\n",
       "4        2     2318       3"
      ]
     },
     "execution_count": 35,
     "metadata": {},
     "output_type": "execute_result"
    }
   ],
   "source": [
    "# Basic info\n",
    "print(\"Shape:\", ratings.shape)\n",
    "print(\"Columns:\", ratings.columns.tolist())\n",
    "ratings.head()\n"
   ]
  },
  {
   "cell_type": "markdown",
   "id": "6f17f6dc-e58b-4b5b-a556-fb0f6446f193",
   "metadata": {},
   "source": [
    "## Number of Unique Users and Books"
   ]
  },
  {
   "cell_type": "code",
   "execution_count": 38,
   "id": "af2e7dd7-71c9-492e-98ab-9270d5bee948",
   "metadata": {},
   "outputs": [
    {
     "name": "stdout",
     "output_type": "stream",
     "text": [
      "Number of unique users: 53424\n"
     ]
    }
   ],
   "source": [
    "print(\"Number of unique users:\", ratings['user_id'].nunique())\n",
    "\n"
   ]
  },
  {
   "cell_type": "code",
   "execution_count": 40,
   "id": "7a3f007e-dead-4387-a612-86a606adb81d",
   "metadata": {},
   "outputs": [
    {
     "name": "stdout",
     "output_type": "stream",
     "text": [
      "Number of unique books: 10000\n"
     ]
    }
   ],
   "source": [
    "print(\"Number of unique books:\", ratings['book_id'].nunique())\n"
   ]
  },
  {
   "cell_type": "markdown",
   "id": "a8e1f8b9-c5b6-427b-9188-d8db3ad1390d",
   "metadata": {},
   "source": [
    "## Rating Distribution"
   ]
  },
  {
   "cell_type": "code",
   "execution_count": 43,
   "id": "603e0471-67dc-4cbb-af88-fc070d59d4ba",
   "metadata": {},
   "outputs": [
    {
     "data": {
      "image/png": "[encoded data removed]",
      "text/plain": [
       "<Figure size 600x400 with 1 Axes>"
      ]
     },
     "metadata": {},
     "output_type": "display_data"
    }
   ],
   "source": [
    "# Plot histogram of ratings\n",
    "plt.figure(figsize=(6, 4))\n",
    "ratings['rating'].hist(bins=10)\n",
    "plt.title('Rating Distribution')\n",
    "plt.xlabel('Rating')\n",
    "plt.ylabel('Frequency')\n",
    "plt.grid(False)\n",
    "plt.show()\n"
   ]
  },
  {
   "cell_type": "markdown",
   "id": "ef79007e-1e8d-413c-81eb-6e95e12b23fd",
   "metadata": {},
   "source": [
    "## How Many Ratings Per User?"
   ]
  },
  {
   "cell_type": "code",
   "execution_count": 46,
   "id": "26a82f93-49b6-4bed-bac0-40263af3159f",
   "metadata": {},
   "outputs": [
    {
     "name": "stdout",
     "output_type": "stream",
     "text": [
      "count    53424.000000\n",
      "mean       111.868804\n",
      "std         26.071224\n",
      "min         19.000000\n",
      "25%         96.000000\n",
      "50%        111.000000\n",
      "75%        128.000000\n",
      "max        200.000000\n",
      "Name: book_id, dtype: float64\n"
     ]
    },
    {
     "data": {
      "image/png": "[encoded data removed]",
      "text/plain": [
       "<Figure size 600x400 with 1 Axes>"
      ]
     },
     "metadata": {},
     "output_type": "display_data"
    }
   ],
   "source": [
    "# Will be helpful later when picking a sample user for testing\n",
    "\n",
    "ratings_per_user = ratings.groupby('user_id')['book_id'].count()\n",
    "\n",
    "# Summary statistics\n",
    "print(ratings_per_user.describe())\n",
    "\n",
    "# Optional: Plot\n",
    "plt.figure(figsize=(6, 4))\n",
    "ratings_per_user.hist(bins=30)\n",
    "plt.title('Number of Ratings per User')\n",
    "plt.xlabel('Number of Ratings')\n",
    "plt.ylabel('Users')\n",
    "plt.show()\n"
   ]
  },
  {
   "cell_type": "code",
   "execution_count": 48,
   "id": "57b306d2-21a4-4c3b-8275-5e4ced63f40a",
   "metadata": {},
   "outputs": [],
   "source": [
    "## Overview of the Books Dataset"
   ]
  },
  {
   "cell_type": "code",
   "execution_count": 50,
   "id": "f035aec9-3e3b-439d-a388-c3da4a302c54",
   "metadata": {},
   "outputs": [
    {
     "name": "stdout",
     "output_type": "stream",
     "text": [
      "Shape: (8900, 7)\n"
     ]
    },
    {
     "data": {
      "text/html": [
       "<div>\n",
       "<style scoped>\n",
       "    .dataframe tbody tr th:only-of-type {\n",
       "        vertical-align: middle;\n",
       "    }\n",
       "\n",
       "    .dataframe tbody tr th {\n",
       "        vertical-align: top;\n",
       "    }\n",
       "\n",
       "    .dataframe thead th {\n",
       "        text-align: right;\n",
       "    }\n",
       "</style>\n",
       "<table border=\"1\" class=\"dataframe\">\n",
       "  <thead>\n",
       "    <tr style=\"text-align: right;\">\n",
       "      <th></th>\n",
       "      <th>book_id</th>\n",
       "      <th>title</th>\n",
       "      <th>authors</th>\n",
       "      <th>average_rating</th>\n",
       "      <th>ratings_count</th>\n",
       "      <th>original_publication_year</th>\n",
       "      <th>language_code</th>\n",
       "    </tr>\n",
       "  </thead>\n",
       "  <tbody>\n",
       "    <tr>\n",
       "      <th>0</th>\n",
       "      <td>1</td>\n",
       "      <td>The Hunger Games (The Hunger Games, #1)</td>\n",
       "      <td>Suzanne Collins</td>\n",
       "      <td>4.34</td>\n",
       "      <td>4780653</td>\n",
       "      <td>2008.0</td>\n",
       "      <td>eng</td>\n",
       "    </tr>\n",
       "    <tr>\n",
       "      <th>1</th>\n",
       "      <td>2</td>\n",
       "      <td>Harry Potter and the Sorcerer's Stone (Harry P...</td>\n",
       "      <td>J.K. Rowling, Mary GrandPré</td>\n",
       "      <td>4.44</td>\n",
       "      <td>4602479</td>\n",
       "      <td>1997.0</td>\n",
       "      <td>eng</td>\n",
       "    </tr>\n",
       "    <tr>\n",
       "      <th>2</th>\n",
       "      <td>3</td>\n",
       "      <td>Twilight (Twilight, #1)</td>\n",
       "      <td>Stephenie Meyer</td>\n",
       "      <td>3.57</td>\n",
       "      <td>3866839</td>\n",
       "      <td>2005.0</td>\n",
       "      <td>en-US</td>\n",
       "    </tr>\n",
       "    <tr>\n",
       "      <th>3</th>\n",
       "      <td>4</td>\n",
       "      <td>To Kill a Mockingbird</td>\n",
       "      <td>Harper Lee</td>\n",
       "      <td>4.25</td>\n",
       "      <td>3198671</td>\n",
       "      <td>1960.0</td>\n",
       "      <td>eng</td>\n",
       "    </tr>\n",
       "    <tr>\n",
       "      <th>4</th>\n",
       "      <td>5</td>\n",
       "      <td>The Great Gatsby</td>\n",
       "      <td>F. Scott Fitzgerald</td>\n",
       "      <td>3.89</td>\n",
       "      <td>2683664</td>\n",
       "      <td>1925.0</td>\n",
       "      <td>eng</td>\n",
       "    </tr>\n",
       "  </tbody>\n",
       "</table>\n",
       "</div>"
      ],
      "text/plain": [
       "   book_id                                              title  \\\n",
       "0        1            The Hunger Games (The Hunger Games, #1)   \n",
       "1        2  Harry Potter and the Sorcerer's Stone (Harry P...   \n",
       "2        3                            Twilight (Twilight, #1)   \n",
       "3        4                              To Kill a Mockingbird   \n",
       "4        5                                   The Great Gatsby   \n",
       "\n",
       "                       authors  average_rating  ratings_count  \\\n",
       "0              Suzanne Collins            4.34        4780653   \n",
       "1  J.K. Rowling, Mary GrandPré            4.44        4602479   \n",
       "2              Stephenie Meyer            3.57        3866839   \n",
       "3                   Harper Lee            4.25        3198671   \n",
       "4          F. Scott Fitzgerald            3.89        2683664   \n",
       "\n",
       "   original_publication_year language_code  \n",
       "0                     2008.0           eng  \n",
       "1                     1997.0           eng  \n",
       "2                     2005.0         en-US  \n",
       "3                     1960.0           eng  \n",
       "4                     1925.0           eng  "
      ]
     },
     "execution_count": 50,
     "metadata": {},
     "output_type": "execute_result"
    }
   ],
   "source": [
    "# Shape and preview\n",
    "print(\"Shape:\", books.shape)\n",
    "books.head()\n"
   ]
  },
  {
   "cell_type": "code",
   "execution_count": 52,
   "id": "65dd0b80-7fd4-4efe-9553-2366554e9635",
   "metadata": {},
   "outputs": [
    {
     "data": {
      "text/plain": [
       "['book_id',\n",
       " 'title',\n",
       " 'authors',\n",
       " 'average_rating',\n",
       " 'ratings_count',\n",
       " 'original_publication_year',\n",
       " 'language_code']"
      ]
     },
     "execution_count": 52,
     "metadata": {},
     "output_type": "execute_result"
    }
   ],
   "source": [
    "books.columns.tolist()\n"
   ]
  },
  {
   "cell_type": "markdown",
   "id": "1c6ca052-af40-4549-adb6-e0449f3ae12d",
   "metadata": {},
   "source": [
    "## Distribution of Ratings Count"
   ]
  },
  {
   "cell_type": "code",
   "execution_count": 55,
   "id": "5c33d145-4c27-4e84-baa3-1275a3ca9c9e",
   "metadata": {},
   "outputs": [
    {
     "data": {
      "image/png": "[encoded data removed]",
      "text/plain": [
       "<Figure size 800x500 with 1 Axes>"
      ]
     },
     "metadata": {},
     "output_type": "display_data"
    }
   ],
   "source": [
    "# Filter books with more than 500 ratings\n",
    "popular_books = books[books['ratings_count'] > 500]\n",
    "\n",
    "plt.figure(figsize=(8, 5))\n",
    "plt.hist(popular_books['ratings_count'], bins=50)\n",
    "plt.title('Books with More Than 500 Ratings')\n",
    "plt.xlabel('Number of Ratings')\n",
    "plt.ylabel('Books')\n",
    "plt.show()\n"
   ]
  },
  {
   "cell_type": "code",
   "execution_count": 57,
   "id": "2952041a-eb71-4974-9f70-e6e09640417c",
   "metadata": {},
   "outputs": [
    {
     "data": {
      "text/html": [
       "<div>\n",
       "<style scoped>\n",
       "    .dataframe tbody tr th:only-of-type {\n",
       "        vertical-align: middle;\n",
       "    }\n",
       "\n",
       "    .dataframe tbody tr th {\n",
       "        vertical-align: top;\n",
       "    }\n",
       "\n",
       "    .dataframe thead th {\n",
       "        text-align: right;\n",
       "    }\n",
       "</style>\n",
       "<table border=\"1\" class=\"dataframe\">\n",
       "  <thead>\n",
       "    <tr style=\"text-align: right;\">\n",
       "      <th></th>\n",
       "      <th>title</th>\n",
       "      <th>authors</th>\n",
       "      <th>ratings_count</th>\n",
       "    </tr>\n",
       "  </thead>\n",
       "  <tbody>\n",
       "    <tr>\n",
       "      <th>0</th>\n",
       "      <td>The Hunger Games (The Hunger Games, #1)</td>\n",
       "      <td>Suzanne Collins</td>\n",
       "      <td>4780653</td>\n",
       "    </tr>\n",
       "    <tr>\n",
       "      <th>1</th>\n",
       "      <td>Harry Potter and the Sorcerer's Stone (Harry P...</td>\n",
       "      <td>J.K. Rowling, Mary GrandPré</td>\n",
       "      <td>4602479</td>\n",
       "    </tr>\n",
       "    <tr>\n",
       "      <th>2</th>\n",
       "      <td>Twilight (Twilight, #1)</td>\n",
       "      <td>Stephenie Meyer</td>\n",
       "      <td>3866839</td>\n",
       "    </tr>\n",
       "    <tr>\n",
       "      <th>3</th>\n",
       "      <td>To Kill a Mockingbird</td>\n",
       "      <td>Harper Lee</td>\n",
       "      <td>3198671</td>\n",
       "    </tr>\n",
       "    <tr>\n",
       "      <th>4</th>\n",
       "      <td>The Great Gatsby</td>\n",
       "      <td>F. Scott Fitzgerald</td>\n",
       "      <td>2683664</td>\n",
       "    </tr>\n",
       "    <tr>\n",
       "      <th>5</th>\n",
       "      <td>The Fault in Our Stars</td>\n",
       "      <td>John Green</td>\n",
       "      <td>2346404</td>\n",
       "    </tr>\n",
       "    <tr>\n",
       "      <th>6</th>\n",
       "      <td>The Hobbit</td>\n",
       "      <td>J.R.R. Tolkien</td>\n",
       "      <td>2071616</td>\n",
       "    </tr>\n",
       "    <tr>\n",
       "      <th>7</th>\n",
       "      <td>The Catcher in the Rye</td>\n",
       "      <td>J.D. Salinger</td>\n",
       "      <td>2044241</td>\n",
       "    </tr>\n",
       "    <tr>\n",
       "      <th>9</th>\n",
       "      <td>Pride and Prejudice</td>\n",
       "      <td>Jane Austen</td>\n",
       "      <td>2035490</td>\n",
       "    </tr>\n",
       "    <tr>\n",
       "      <th>8</th>\n",
       "      <td>Angels &amp; Demons  (Robert Langdon, #1)</td>\n",
       "      <td>Dan Brown</td>\n",
       "      <td>2001311</td>\n",
       "    </tr>\n",
       "  </tbody>\n",
       "</table>\n",
       "</div>"
      ],
      "text/plain": [
       "                                               title  \\\n",
       "0            The Hunger Games (The Hunger Games, #1)   \n",
       "1  Harry Potter and the Sorcerer's Stone (Harry P...   \n",
       "2                            Twilight (Twilight, #1)   \n",
       "3                              To Kill a Mockingbird   \n",
       "4                                   The Great Gatsby   \n",
       "5                             The Fault in Our Stars   \n",
       "6                                         The Hobbit   \n",
       "7                             The Catcher in the Rye   \n",
       "9                                Pride and Prejudice   \n",
       "8              Angels & Demons  (Robert Langdon, #1)   \n",
       "\n",
       "                       authors  ratings_count  \n",
       "0              Suzanne Collins        4780653  \n",
       "1  J.K. Rowling, Mary GrandPré        4602479  \n",
       "2              Stephenie Meyer        3866839  \n",
       "3                   Harper Lee        3198671  \n",
       "4          F. Scott Fitzgerald        2683664  \n",
       "5                   John Green        2346404  \n",
       "6               J.R.R. Tolkien        2071616  \n",
       "7                J.D. Salinger        2044241  \n",
       "9                  Jane Austen        2035490  \n",
       "8                    Dan Brown        2001311  "
      ]
     },
     "execution_count": 57,
     "metadata": {},
     "output_type": "execute_result"
    }
   ],
   "source": [
    "most_rated = books.sort_values(by='ratings_count', ascending=False)\n",
    "most_rated[['title', 'authors', 'ratings_count']].head(10)\n"
   ]
  },
  {
   "cell_type": "code",
   "execution_count": 59,
   "id": "26b66745-716e-4970-86b7-e71269b89f28",
   "metadata": {},
   "outputs": [
    {
     "data": {
      "text/html": [
       "<div>\n",
       "<style scoped>\n",
       "    .dataframe tbody tr th:only-of-type {\n",
       "        vertical-align: middle;\n",
       "    }\n",
       "\n",
       "    .dataframe tbody tr th {\n",
       "        vertical-align: top;\n",
       "    }\n",
       "\n",
       "    .dataframe thead th {\n",
       "        text-align: right;\n",
       "    }\n",
       "</style>\n",
       "<table border=\"1\" class=\"dataframe\">\n",
       "  <thead>\n",
       "    <tr style=\"text-align: right;\">\n",
       "      <th></th>\n",
       "      <th>title</th>\n",
       "      <th>authors</th>\n",
       "      <th>average_rating</th>\n",
       "      <th>ratings_count</th>\n",
       "    </tr>\n",
       "  </thead>\n",
       "  <tbody>\n",
       "    <tr>\n",
       "      <th>3387</th>\n",
       "      <td>The Complete Calvin and Hobbes</td>\n",
       "      <td>Bill Watterson</td>\n",
       "      <td>4.82</td>\n",
       "      <td>28900</td>\n",
       "    </tr>\n",
       "    <tr>\n",
       "      <th>3065</th>\n",
       "      <td>Harry Potter Boxed Set, Books 1-5 (Harry Potte...</td>\n",
       "      <td>J.K. Rowling, Mary GrandPré</td>\n",
       "      <td>4.77</td>\n",
       "      <td>33220</td>\n",
       "    </tr>\n",
       "    <tr>\n",
       "      <th>839</th>\n",
       "      <td>Words of Radiance (The Stormlight Archive, #2)</td>\n",
       "      <td>Brandon Sanderson</td>\n",
       "      <td>4.77</td>\n",
       "      <td>73572</td>\n",
       "    </tr>\n",
       "    <tr>\n",
       "      <th>7168</th>\n",
       "      <td>ESV Study Bible</td>\n",
       "      <td>Anonymous, Lane T. Dennis, Wayne A. Grudem</td>\n",
       "      <td>4.76</td>\n",
       "      <td>8953</td>\n",
       "    </tr>\n",
       "    <tr>\n",
       "      <th>7939</th>\n",
       "      <td>Mark of the Lion Trilogy</td>\n",
       "      <td>Francine Rivers</td>\n",
       "      <td>4.76</td>\n",
       "      <td>9081</td>\n",
       "    </tr>\n",
       "    <tr>\n",
       "      <th>4152</th>\n",
       "      <td>It's a Magical World: A Calvin and Hobbes Coll...</td>\n",
       "      <td>Bill Watterson</td>\n",
       "      <td>4.75</td>\n",
       "      <td>22351</td>\n",
       "    </tr>\n",
       "    <tr>\n",
       "      <th>412</th>\n",
       "      <td>Harry Potter Boxset (Harry Potter, #1-7)</td>\n",
       "      <td>J.K. Rowling</td>\n",
       "      <td>4.74</td>\n",
       "      <td>190050</td>\n",
       "    </tr>\n",
       "    <tr>\n",
       "      <th>5805</th>\n",
       "      <td>There's Treasure Everywhere: A Calvin and Hobb...</td>\n",
       "      <td>Bill Watterson</td>\n",
       "      <td>4.74</td>\n",
       "      <td>16766</td>\n",
       "    </tr>\n",
       "    <tr>\n",
       "      <th>5992</th>\n",
       "      <td>The Authoritative Calvin and Hobbes: A Calvin ...</td>\n",
       "      <td>Bill Watterson</td>\n",
       "      <td>4.73</td>\n",
       "      <td>16087</td>\n",
       "    </tr>\n",
       "    <tr>\n",
       "      <th>3498</th>\n",
       "      <td>Harry Potter Collection (Harry Potter, #1-6)</td>\n",
       "      <td>J.K. Rowling</td>\n",
       "      <td>4.73</td>\n",
       "      <td>24618</td>\n",
       "    </tr>\n",
       "  </tbody>\n",
       "</table>\n",
       "</div>"
      ],
      "text/plain": [
       "                                                  title  \\\n",
       "3387                     The Complete Calvin and Hobbes   \n",
       "3065  Harry Potter Boxed Set, Books 1-5 (Harry Potte...   \n",
       "839      Words of Radiance (The Stormlight Archive, #2)   \n",
       "7168                                    ESV Study Bible   \n",
       "7939                           Mark of the Lion Trilogy   \n",
       "4152  It's a Magical World: A Calvin and Hobbes Coll...   \n",
       "412            Harry Potter Boxset (Harry Potter, #1-7)   \n",
       "5805  There's Treasure Everywhere: A Calvin and Hobb...   \n",
       "5992  The Authoritative Calvin and Hobbes: A Calvin ...   \n",
       "3498       Harry Potter Collection (Harry Potter, #1-6)   \n",
       "\n",
       "                                         authors  average_rating  \\\n",
       "3387                              Bill Watterson            4.82   \n",
       "3065                 J.K. Rowling, Mary GrandPré            4.77   \n",
       "839                            Brandon Sanderson            4.77   \n",
       "7168  Anonymous, Lane T. Dennis, Wayne A. Grudem            4.76   \n",
       "7939                             Francine Rivers            4.76   \n",
       "4152                              Bill Watterson            4.75   \n",
       "412                                 J.K. Rowling            4.74   \n",
       "5805                              Bill Watterson            4.74   \n",
       "5992                              Bill Watterson            4.73   \n",
       "3498                                J.K. Rowling            4.73   \n",
       "\n",
       "      ratings_count  \n",
       "3387          28900  \n",
       "3065          33220  \n",
       "839           73572  \n",
       "7168           8953  \n",
       "7939           9081  \n",
       "4152          22351  \n",
       "412          190050  \n",
       "5805          16766  \n",
       "5992          16087  \n",
       "3498          24618  "
      ]
     },
     "execution_count": 59,
     "metadata": {},
     "output_type": "execute_result"
    }
   ],
   "source": [
    "highly_rated = books[books['ratings_count'] > 100]\n",
    "top_avg_rated = highly_rated.sort_values(by='average_rating', ascending=False)\n",
    "top_avg_rated[['title', 'authors', 'average_rating', 'ratings_count']].head(10)\n"
   ]
  },
  {
   "cell_type": "code",
   "execution_count": 61,
   "id": "f270313e-6970-4677-beeb-e2137160187d",
   "metadata": {},
   "outputs": [
    {
     "name": "stdout",
     "output_type": "stream",
     "text": [
      "Languages in dataset: 25\n",
      "Top 5 languages:\n",
      "language_code\n",
      "eng      6331\n",
      "en-US    2065\n",
      "en-GB     257\n",
      "ara        63\n",
      "en-CA      58\n",
      "Name: count, dtype: int64\n",
      "\n",
      "Years:\n",
      "Oldest: -1750.0\n",
      "Newest: 2017.0\n"
     ]
    }
   ],
   "source": [
    "print(\"Languages in dataset:\", books['language_code'].nunique())\n",
    "print(\"Top 5 languages:\")\n",
    "print(books['language_code'].value_counts().head())\n",
    "\n",
    "print(\"\\nYears:\")\n",
    "print(\"Oldest:\", books['original_publication_year'].min())\n",
    "print(\"Newest:\", books['original_publication_year'].max())\n"
   ]
  },
  {
   "cell_type": "markdown",
   "id": "530cc107-f90d-4186-8918-ae42b77955c2",
   "metadata": {},
   "source": [
    "## Overview of the Tags & Booktags Datasets"
   ]
  },
  {
   "cell_type": "code",
   "execution_count": 69,
   "id": "6bb038bf-7d18-40d7-b007-4fc784f9c941",
   "metadata": {},
   "outputs": [
    {
     "name": "stdout",
     "output_type": "stream",
     "text": [
      "Tags:\n",
      "   tag_id tag_name\n",
      "0       0        -\n",
      "1       1     --1-\n",
      "2       2    --10-\n",
      "3       3    --12-\n",
      "4       4   --122-\n",
      "\n",
      "Book Tags:\n",
      "   goodreads_book_id  tag_id   count\n",
      "0                  1   30574  167697\n",
      "1                  1   11305   37174\n",
      "2                  1   11557   34173\n",
      "3                  1    8717   12986\n",
      "4                  1   33114   12716\n"
     ]
    }
   ],
   "source": [
    "print(\"Tags:\")\n",
    "print(tags.head())\n",
    "\n",
    "print(\"\\nBook Tags:\")\n",
    "print(book_tags.head())"
   ]
  },
  {
   "cell_type": "markdown",
   "id": "a0463351-e41c-4afb-b0a3-ce4ab7481e37",
   "metadata": {},
   "source": [
    "## Merge Book Tags with Tag Names"
   ]
  },
  {
   "cell_type": "code",
   "execution_count": 72,
   "id": "c8d6723b-26ed-43fa-8efc-9f781f585f9d",
   "metadata": {},
   "outputs": [
    {
     "data": {
      "text/html": [
       "<div>\n",
       "<style scoped>\n",
       "    .dataframe tbody tr th:only-of-type {\n",
       "        vertical-align: middle;\n",
       "    }\n",
       "\n",
       "    .dataframe tbody tr th {\n",
       "        vertical-align: top;\n",
       "    }\n",
       "\n",
       "    .dataframe thead th {\n",
       "        text-align: right;\n",
       "    }\n",
       "</style>\n",
       "<table border=\"1\" class=\"dataframe\">\n",
       "  <thead>\n",
       "    <tr style=\"text-align: right;\">\n",
       "      <th></th>\n",
       "      <th>goodreads_book_id</th>\n",
       "      <th>tag_id</th>\n",
       "      <th>count</th>\n",
       "      <th>tag_name</th>\n",
       "    </tr>\n",
       "  </thead>\n",
       "  <tbody>\n",
       "    <tr>\n",
       "      <th>0</th>\n",
       "      <td>1</td>\n",
       "      <td>30574</td>\n",
       "      <td>167697</td>\n",
       "      <td>to-read</td>\n",
       "    </tr>\n",
       "    <tr>\n",
       "      <th>1</th>\n",
       "      <td>1</td>\n",
       "      <td>11305</td>\n",
       "      <td>37174</td>\n",
       "      <td>fantasy</td>\n",
       "    </tr>\n",
       "    <tr>\n",
       "      <th>2</th>\n",
       "      <td>1</td>\n",
       "      <td>11557</td>\n",
       "      <td>34173</td>\n",
       "      <td>favorites</td>\n",
       "    </tr>\n",
       "    <tr>\n",
       "      <th>3</th>\n",
       "      <td>1</td>\n",
       "      <td>8717</td>\n",
       "      <td>12986</td>\n",
       "      <td>currently-reading</td>\n",
       "    </tr>\n",
       "    <tr>\n",
       "      <th>4</th>\n",
       "      <td>1</td>\n",
       "      <td>33114</td>\n",
       "      <td>12716</td>\n",
       "      <td>young-adult</td>\n",
       "    </tr>\n",
       "  </tbody>\n",
       "</table>\n",
       "</div>"
      ],
      "text/plain": [
       "   goodreads_book_id  tag_id   count           tag_name\n",
       "0                  1   30574  167697            to-read\n",
       "1                  1   11305   37174            fantasy\n",
       "2                  1   11557   34173          favorites\n",
       "3                  1    8717   12986  currently-reading\n",
       "4                  1   33114   12716        young-adult"
      ]
     },
     "execution_count": 72,
     "metadata": {},
     "output_type": "execute_result"
    }
   ],
   "source": [
    "book_tags_merged = pd.merge(book_tags, tags, on='tag_id', how='left')\n",
    "\n",
    "# Preview merged result\n",
    "book_tags_merged.head()\n"
   ]
  },
  {
   "cell_type": "markdown",
   "id": "cadb1adf-4403-4606-8f1e-8137b6be1968",
   "metadata": {},
   "source": [
    "### Aggregate Tags per Book"
   ]
  },
  {
   "cell_type": "code",
   "execution_count": 76,
   "id": "e13065ac-d380-49f9-b199-7daa1392bdb4",
   "metadata": {},
   "outputs": [
    {
     "data": {
      "text/html": [
       "<div>\n",
       "<style scoped>\n",
       "    .dataframe tbody tr th:only-of-type {\n",
       "        vertical-align: middle;\n",
       "    }\n",
       "\n",
       "    .dataframe tbody tr th {\n",
       "        vertical-align: top;\n",
       "    }\n",
       "\n",
       "    .dataframe thead th {\n",
       "        text-align: right;\n",
       "    }\n",
       "</style>\n",
       "<table border=\"1\" class=\"dataframe\">\n",
       "  <thead>\n",
       "    <tr style=\"text-align: right;\">\n",
       "      <th></th>\n",
       "      <th>book_id</th>\n",
       "      <th>tag_string</th>\n",
       "    </tr>\n",
       "  </thead>\n",
       "  <tbody>\n",
       "    <tr>\n",
       "      <th>0</th>\n",
       "      <td>1</td>\n",
       "      <td>to-read fantasy favorites currently-reading yo...</td>\n",
       "    </tr>\n",
       "    <tr>\n",
       "      <th>1</th>\n",
       "      <td>2</td>\n",
       "      <td>to-read currently-reading fantasy favorites ch...</td>\n",
       "    </tr>\n",
       "    <tr>\n",
       "      <th>2</th>\n",
       "      <td>3</td>\n",
       "      <td>to-read favorites fantasy currently-reading yo...</td>\n",
       "    </tr>\n",
       "    <tr>\n",
       "      <th>3</th>\n",
       "      <td>5</td>\n",
       "      <td>favorites fantasy currently-reading young-adul...</td>\n",
       "    </tr>\n",
       "    <tr>\n",
       "      <th>4</th>\n",
       "      <td>6</td>\n",
       "      <td>fantasy young-adult fiction harry-potter owned</td>\n",
       "    </tr>\n",
       "  </tbody>\n",
       "</table>\n",
       "</div>"
      ],
      "text/plain": [
       "   book_id                                         tag_string\n",
       "0        1  to-read fantasy favorites currently-reading yo...\n",
       "1        2  to-read currently-reading fantasy favorites ch...\n",
       "2        3  to-read favorites fantasy currently-reading yo...\n",
       "3        5  favorites fantasy currently-reading young-adul...\n",
       "4        6     fantasy young-adult fiction harry-potter owned"
      ]
     },
     "execution_count": 76,
     "metadata": {},
     "output_type": "execute_result"
    }
   ],
   "source": [
    "# Group tags per book: keep most frequent tags\n",
    "top_tags_per_book = (\n",
    "    book_tags_merged\n",
    "    .sort_values(['goodreads_book_id', 'count'], ascending=[True, False])\n",
    "    .groupby('goodreads_book_id')\n",
    "    .head(5)  # Keep top 5 tags per book\n",
    ")\n",
    "\n",
    "# Join tags into a single string per book\n",
    "book_tag_strings = (\n",
    "    top_tags_per_book\n",
    "    .groupby('goodreads_book_id')['tag_name']\n",
    "    .apply(lambda tags: ' '.join(tags))\n",
    "    .reset_index()\n",
    ")\n",
    "\n",
    "book_tag_strings.columns = ['book_id', 'tag_string']\n",
    "\n",
    "# Preview\n",
    "book_tag_strings.head()\n"
   ]
  },
  {
   "cell_type": "markdown",
   "id": "b06023ff-2596-4614-b2b2-04203cad91e0",
   "metadata": {},
   "source": [
    "### Merge Tags with Book Metadata"
   ]
  },
  {
   "cell_type": "code",
   "execution_count": 83,
   "id": "2405b1d3-b6ce-4960-beb3-f4392e607da4",
   "metadata": {},
   "outputs": [],
   "source": [
    "books_with_tags = pd.merge(books, book_tag_strings, on='book_id', how='left')\n",
    "\n",
    "# Drop rows without tags (optional)\n",
    "books_with_tags = books_with_tags.dropna(subset=['tag_string'])\n",
    "\n",
    "# Preview result\n",
    "books_with_tags[['title', 'authors', 'tag_string']].head()\n",
    "\n",
    "# Save this New Dataset with Other processed files\n",
    "books_with_tags.to_csv('../data/processed/05_books_with_tags.csv', index=False)\n"
   ]
  },
  {
   "cell_type": "code",
   "execution_count": null,
   "id": "984808d6-6dae-40a5-99d0-3f135811cab9",
   "metadata": {},
   "outputs": [],
   "source": []
  }
 ],
 "metadata": {
  "kernelspec": {
   "display_name": "Python 3 (ipykernel)",
   "language": "python",
   "name": "python3"
  },
  "language_info": {
   "codemirror_mode": {
    "name": "ipython",
    "version": 3
   },
   "file_extension": ".py",
   "mimetype": "text/x-python",
   "name": "python",
   "nbconvert_exporter": "python",
   "pygments_lexer": "ipython3",
   "version": "3.12.7"
  }
 },
 "nbformat": 4,
 "nbformat_minor": 5
}
