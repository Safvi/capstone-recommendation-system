{
 "cells": [
  {
   "cell_type": "code",
   "execution_count": 68,
   "id": "3b404bbb-17c9-48f8-ac03-b864e0102713",
   "metadata": {},
   "outputs": [],
   "source": [
    "import pandas as pd\n",
    "import numpy as np\n",
    "from sklearn.feature_extraction.text import TfidfVectorizer\n",
    "from sklearn.metrics.pairwise import cosine_similarity"
   ]
  },
  {
   "cell_type": "code",
   "execution_count": 22,
   "id": "4ebcde8f-cab5-48c8-ae99-cecaaadf0255",
   "metadata": {},
   "outputs": [],
   "source": [
    "books_with_tags = pd.read_csv('../data/processed/05_books_with_tags.csv')\n"
   ]
  },
  {
   "cell_type": "markdown",
   "id": "c158757e-5a21-4993-a879-ccd45ef8b1ce",
   "metadata": {},
   "source": [
    "## Create the Vectorizer\n"
   ]
  },
  {
   "cell_type": "code",
   "execution_count": 16,
   "id": "e28ff1c0-4e5b-489a-aa44-793ebcb22ba2",
   "metadata": {},
   "outputs": [
    {
     "name": "stdout",
     "output_type": "stream",
     "text": [
      "TF-IDF matrix shape: (735, 229)\n"
     ]
    }
   ],
   "source": [
    "tfidf = TfidfVectorizer()\n",
    "\n",
    "# Fit and transform the tag strings\n",
    "tfidf_matrix = tfidf.fit_transform(books_with_tags['tag_string'])\n",
    "\n",
    "# Show shape of the matrix\n",
    "print(\"TF-IDF matrix shape:\", tfidf_matrix.shape)\n"
   ]
  },
  {
   "cell_type": "markdown",
   "id": "e4e467ef-fa69-43d3-a028-dca36c66fcca",
   "metadata": {},
   "source": [
    "## Cosine Similarity Between Books"
   ]
  },
  {
   "cell_type": "code",
   "execution_count": 24,
   "id": "664a9f27-87b3-4c7f-a6dd-21b21e3f8d43",
   "metadata": {},
   "outputs": [
    {
     "name": "stdout",
     "output_type": "stream",
     "text": [
      "Cosine similarity matrix shape: (735, 735)\n"
     ]
    }
   ],
   "source": [
    "# Compute cosine similarity matrix\n",
    "cosine_sim = cosine_similarity(tfidf_matrix, tfidf_matrix)\n",
    "\n",
    "# Check shape\n",
    "print(\"Cosine similarity matrix shape:\", cosine_sim.shape)"
   ]
  },
  {
   "cell_type": "markdown",
   "id": "e107d0aa-31e3-4762-9401-5a368d464235",
   "metadata": {},
   "source": [
    "## Build a Top-N Recommendation Function"
   ]
  },
  {
   "cell_type": "code",
   "execution_count": 31,
   "id": "424a2852-98fd-4a58-8c15-ef86cf4318d2",
   "metadata": {},
   "outputs": [],
   "source": [
    "def get_book_recommendations(title, books_df, cosine_sim_matrix, top_n=5):\n",
    "    # Reset index to ensure we can look things up by index\n",
    "    books_df = books_df.reset_index()\n",
    "\n",
    "    # Find the index of the given book title\n",
    "    indices = pd.Series(books_df.index, index=books_df['title'].str.lower())\n",
    "\n",
    "    idx = indices.get(title.lower())\n",
    "\n",
    "    if idx is None:\n",
    "        print(\"Book not found!\")\n",
    "        return []\n",
    "\n",
    "    # Get pairwise similarity scores for this book\n",
    "    sim_scores = list(enumerate(cosine_sim_matrix[idx]))\n",
    "\n",
    "    # Sort books by similarity score (excluding itself)\n",
    "    sim_scores = sorted(sim_scores, key=lambda x: x[1], reverse=True)[1:top_n+1]\n",
    "\n",
    "    # Get book indices of top matches\n",
    "    book_indices = [i[0] for i in sim_scores]\n",
    "\n",
    "    # Return the top N most similar books\n",
    "    return books_df.loc[book_indices][['title', 'authors', 'tag_string']]\n"
   ]
  },
  {
   "cell_type": "markdown",
   "id": "286a8a4f-3dcd-45f2-815e-06122acb816d",
   "metadata": {},
   "source": [
    "#### Check the System by trying a few titles"
   ]
  },
  {
   "cell_type": "code",
   "execution_count": 33,
   "id": "6500feaf-4cf6-48e7-916e-3dc47407d4aa",
   "metadata": {},
   "outputs": [
    {
     "name": "stdout",
     "output_type": "stream",
     "text": [
      "Book not found!\n"
     ]
    },
    {
     "data": {
      "text/plain": [
       "[]"
      ]
     },
     "execution_count": 33,
     "metadata": {},
     "output_type": "execute_result"
    }
   ],
   "source": [
    "get_book_recommendations(\"The Hobbit\", books_with_tags, cosine_sim, top_n=5)\n"
   ]
  },
  {
   "cell_type": "code",
   "execution_count": 38,
   "id": "fef69b07-55ef-440e-8836-62821c99e739",
   "metadata": {},
   "outputs": [
    {
     "data": {
      "text/html": [
       "<div>\n",
       "<style scoped>\n",
       "    .dataframe tbody tr th:only-of-type {\n",
       "        vertical-align: middle;\n",
       "    }\n",
       "\n",
       "    .dataframe tbody tr th {\n",
       "        vertical-align: top;\n",
       "    }\n",
       "\n",
       "    .dataframe thead th {\n",
       "        text-align: right;\n",
       "    }\n",
       "</style>\n",
       "<table border=\"1\" class=\"dataframe\">\n",
       "  <thead>\n",
       "    <tr style=\"text-align: right;\">\n",
       "      <th></th>\n",
       "      <th>title</th>\n",
       "      <th>authors</th>\n",
       "      <th>tag_string</th>\n",
       "    </tr>\n",
       "  </thead>\n",
       "  <tbody>\n",
       "    <tr>\n",
       "      <th>5</th>\n",
       "      <td>The Catcher in the Rye</td>\n",
       "      <td>J.D. Salinger</td>\n",
       "      <td>to-read favorites fantasy currently-reading ha...</td>\n",
       "    </tr>\n",
       "    <tr>\n",
       "      <th>154</th>\n",
       "      <td>The Death of Ivan Ilych</td>\n",
       "      <td>Leo Tolstoy, Aylmer Maude</td>\n",
       "      <td>to-read fantasy harry-potter fiction books-i-own</td>\n",
       "    </tr>\n",
       "    <tr>\n",
       "      <th>625</th>\n",
       "      <td>Visions in Death (In Death, #19)</td>\n",
       "      <td>J.D. Robb</td>\n",
       "      <td>fantasy favorites young-adult fiction to-read</td>\n",
       "    </tr>\n",
       "    <tr>\n",
       "      <th>219</th>\n",
       "      <td>Freckle Juice</td>\n",
       "      <td>Judy Blume</td>\n",
       "      <td>to-read currently-reading fantasy young-adult ...</td>\n",
       "    </tr>\n",
       "    <tr>\n",
       "      <th>626</th>\n",
       "      <td>Safe with Me (With Me in Seattle, #5)</td>\n",
       "      <td>Kristen Proby</td>\n",
       "      <td>to-read fantasy redwall young-adult owned</td>\n",
       "    </tr>\n",
       "  </tbody>\n",
       "</table>\n",
       "</div>"
      ],
      "text/plain": [
       "                                     title                    authors  \\\n",
       "5                   The Catcher in the Rye              J.D. Salinger   \n",
       "154                The Death of Ivan Ilych  Leo Tolstoy, Aylmer Maude   \n",
       "625       Visions in Death (In Death, #19)                  J.D. Robb   \n",
       "219                          Freckle Juice                 Judy Blume   \n",
       "626  Safe with Me (With Me in Seattle, #5)              Kristen Proby   \n",
       "\n",
       "                                            tag_string  \n",
       "5    to-read favorites fantasy currently-reading ha...  \n",
       "154   to-read fantasy harry-potter fiction books-i-own  \n",
       "625      fantasy favorites young-adult fiction to-read  \n",
       "219  to-read currently-reading fantasy young-adult ...  \n",
       "626          to-read fantasy redwall young-adult owned  "
      ]
     },
     "execution_count": 38,
     "metadata": {},
     "output_type": "execute_result"
    }
   ],
   "source": [
    "get_book_recommendations(\"The Fault in Our Stars\", books_with_tags, cosine_sim, top_n=5)\n"
   ]
  },
  {
   "cell_type": "markdown",
   "id": "33369fa3-5988-4d62-81ec-4aa0a26185f9",
   "metadata": {},
   "source": [
    "## Check & Fix Case Sensitivity"
   ]
  },
  {
   "cell_type": "code",
   "execution_count": 40,
   "id": "d2444c32-3958-4dc5-b819-2797804b6c55",
   "metadata": {},
   "outputs": [
    {
     "data": {
      "text/plain": [
       "261           the snows of kilimanjaro and other stories\n",
       "386    siege of darkness (forgotten realms: legacy of...\n",
       "383                           did you ever have a family\n",
       "381    tears of the moon (gallaghers of ardmore / iri...\n",
       "347            midnight (warriors: the new prophecy, #1)\n",
       "473                   broken angels (takeshi kovacs, #2)\n",
       "195                              saga, vol. 3 (saga, #3)\n",
       "648                   strangers in death (in death, #26)\n",
       "329                                          be here now\n",
       "99                    four to score (stephanie plum, #4)\n",
       "Name: title, dtype: object"
      ]
     },
     "execution_count": 40,
     "metadata": {},
     "output_type": "execute_result"
    }
   ],
   "source": [
    "# Show a sample of titles (lowercased for comparison)\n",
    "books_with_tags['title'].str.lower().sample(10)\n"
   ]
  },
  {
   "cell_type": "code",
   "execution_count": 44,
   "id": "aba2f954-90cd-4e7c-b14c-e1c56a61a348",
   "metadata": {},
   "outputs": [],
   "source": [
    "def search_titles(keyword, books_df):\n",
    "    return books_df[books_df['title'].str.lower().str.contains(keyword.lower())][['title', 'authors']].head(10)\n"
   ]
  },
  {
   "cell_type": "code",
   "execution_count": 46,
   "id": "a1b7ccc7-ee66-485c-8bd2-71db9b5179f0",
   "metadata": {},
   "outputs": [
    {
     "data": {
      "text/html": [
       "<div>\n",
       "<style scoped>\n",
       "    .dataframe tbody tr th:only-of-type {\n",
       "        vertical-align: middle;\n",
       "    }\n",
       "\n",
       "    .dataframe tbody tr th {\n",
       "        vertical-align: top;\n",
       "    }\n",
       "\n",
       "    .dataframe thead th {\n",
       "        text-align: right;\n",
       "    }\n",
       "</style>\n",
       "<table border=\"1\" class=\"dataframe\">\n",
       "  <thead>\n",
       "    <tr style=\"text-align: right;\">\n",
       "      <th></th>\n",
       "      <th>title</th>\n",
       "      <th>authors</th>\n",
       "    </tr>\n",
       "  </thead>\n",
       "  <tbody>\n",
       "  </tbody>\n",
       "</table>\n",
       "</div>"
      ],
      "text/plain": [
       "Empty DataFrame\n",
       "Columns: [title, authors]\n",
       "Index: []"
      ]
     },
     "execution_count": 46,
     "metadata": {},
     "output_type": "execute_result"
    }
   ],
   "source": [
    "search_titles(\"hobbit\", books_with_tags)\n"
   ]
  },
  {
   "cell_type": "code",
   "execution_count": 48,
   "id": "845b275e-d0a0-40c3-9331-ea91c402b71d",
   "metadata": {},
   "outputs": [
    {
     "data": {
      "text/plain": [
       "0"
      ]
     },
     "execution_count": 48,
     "metadata": {},
     "output_type": "execute_result"
    }
   ],
   "source": [
    "books_with_tags['title'].str.lower().str.contains('hobbit').sum()\n"
   ]
  },
  {
   "cell_type": "code",
   "execution_count": 50,
   "id": "62131b51-a266-4765-a0eb-61b0c9192174",
   "metadata": {},
   "outputs": [
    {
     "data": {
      "text/html": [
       "<div>\n",
       "<style scoped>\n",
       "    .dataframe tbody tr th:only-of-type {\n",
       "        vertical-align: middle;\n",
       "    }\n",
       "\n",
       "    .dataframe tbody tr th {\n",
       "        vertical-align: top;\n",
       "    }\n",
       "\n",
       "    .dataframe thead th {\n",
       "        text-align: right;\n",
       "    }\n",
       "</style>\n",
       "<table border=\"1\" class=\"dataframe\">\n",
       "  <thead>\n",
       "    <tr style=\"text-align: right;\">\n",
       "      <th></th>\n",
       "      <th>title</th>\n",
       "      <th>authors</th>\n",
       "    </tr>\n",
       "  </thead>\n",
       "  <tbody>\n",
       "    <tr>\n",
       "      <th>542</th>\n",
       "      <td>A Shadow of Light (A Shade of Vampire, #4)</td>\n",
       "      <td>Bella Forrest</td>\n",
       "    </tr>\n",
       "    <tr>\n",
       "      <th>461</th>\n",
       "      <td>Tris's Book (Circle of Magic, #2)</td>\n",
       "      <td>Tamora Pierce</td>\n",
       "    </tr>\n",
       "    <tr>\n",
       "      <th>309</th>\n",
       "      <td>The Strange Library</td>\n",
       "      <td>Haruki Murakami, Ted Goossen</td>\n",
       "    </tr>\n",
       "    <tr>\n",
       "      <th>419</th>\n",
       "      <td>Vanishing Girls</td>\n",
       "      <td>Lauren Oliver</td>\n",
       "    </tr>\n",
       "    <tr>\n",
       "      <th>693</th>\n",
       "      <td>Crush</td>\n",
       "      <td>Richard Siken</td>\n",
       "    </tr>\n",
       "    <tr>\n",
       "      <th>289</th>\n",
       "      <td>Once We Were Brothers</td>\n",
       "      <td>Ronald H. Balson</td>\n",
       "    </tr>\n",
       "    <tr>\n",
       "      <th>38</th>\n",
       "      <td>Where'd You Go, Bernadette</td>\n",
       "      <td>Maria Semple</td>\n",
       "    </tr>\n",
       "    <tr>\n",
       "      <th>347</th>\n",
       "      <td>Midnight (Warriors: The New Prophecy, #1)</td>\n",
       "      <td>Erin Hunter</td>\n",
       "    </tr>\n",
       "    <tr>\n",
       "      <th>295</th>\n",
       "      <td>Moo, Baa, La La La!</td>\n",
       "      <td>Sandra Boynton</td>\n",
       "    </tr>\n",
       "    <tr>\n",
       "      <th>415</th>\n",
       "      <td>Where I'm Calling From: New and Selected Stories</td>\n",
       "      <td>Raymond Carver</td>\n",
       "    </tr>\n",
       "  </tbody>\n",
       "</table>\n",
       "</div>"
      ],
      "text/plain": [
       "                                                title  \\\n",
       "542        A Shadow of Light (A Shade of Vampire, #4)   \n",
       "461                 Tris's Book (Circle of Magic, #2)   \n",
       "309                               The Strange Library   \n",
       "419                                   Vanishing Girls   \n",
       "693                                             Crush   \n",
       "289                             Once We Were Brothers   \n",
       "38                         Where'd You Go, Bernadette   \n",
       "347         Midnight (Warriors: The New Prophecy, #1)   \n",
       "295                               Moo, Baa, La La La!   \n",
       "415  Where I'm Calling From: New and Selected Stories   \n",
       "\n",
       "                          authors  \n",
       "542                 Bella Forrest  \n",
       "461                 Tamora Pierce  \n",
       "309  Haruki Murakami, Ted Goossen  \n",
       "419                 Lauren Oliver  \n",
       "693                 Richard Siken  \n",
       "289              Ronald H. Balson  \n",
       "38                   Maria Semple  \n",
       "347                   Erin Hunter  \n",
       "295                Sandra Boynton  \n",
       "415                Raymond Carver  "
      ]
     },
     "execution_count": 50,
     "metadata": {},
     "output_type": "execute_result"
    }
   ],
   "source": [
    "books_with_tags[['title', 'authors']].sample(10)\n"
   ]
  },
  {
   "cell_type": "code",
   "execution_count": 52,
   "id": "f6cd07e8-d41c-4b81-9cf1-af4fd7c75940",
   "metadata": {},
   "outputs": [
    {
     "data": {
      "text/html": [
       "<div>\n",
       "<style scoped>\n",
       "    .dataframe tbody tr th:only-of-type {\n",
       "        vertical-align: middle;\n",
       "    }\n",
       "\n",
       "    .dataframe tbody tr th {\n",
       "        vertical-align: top;\n",
       "    }\n",
       "\n",
       "    .dataframe thead th {\n",
       "        text-align: right;\n",
       "    }\n",
       "</style>\n",
       "<table border=\"1\" class=\"dataframe\">\n",
       "  <thead>\n",
       "    <tr style=\"text-align: right;\">\n",
       "      <th></th>\n",
       "      <th>title</th>\n",
       "      <th>authors</th>\n",
       "      <th>tag_string</th>\n",
       "    </tr>\n",
       "  </thead>\n",
       "  <tbody>\n",
       "    <tr>\n",
       "      <th>660</th>\n",
       "      <td>Zita the Spacegirl (Zita the Spacegirl, #1)</td>\n",
       "      <td>Ben Hatke</td>\n",
       "      <td>to-read young-adult vampires horror favorites</td>\n",
       "    </tr>\n",
       "    <tr>\n",
       "      <th>129</th>\n",
       "      <td>A Voice in the Wind (Mark of the Lion, #1)</td>\n",
       "      <td>Francine Rivers, Richard Ferrone</td>\n",
       "      <td>to-read currently-reading fiction favorites yo...</td>\n",
       "    </tr>\n",
       "    <tr>\n",
       "      <th>726</th>\n",
       "      <td>Life Before Legend: Stories of the Criminal an...</td>\n",
       "      <td>Marie Lu</td>\n",
       "      <td>to-read fiction currently-reading young-adult ...</td>\n",
       "    </tr>\n",
       "    <tr>\n",
       "      <th>671</th>\n",
       "      <td>Bruiser</td>\n",
       "      <td>Neal Shusterman</td>\n",
       "      <td>fantasy young-adult vampires horror favorites</td>\n",
       "    </tr>\n",
       "    <tr>\n",
       "      <th>661</th>\n",
       "      <td>Paradiso (The Divine Comedy, #3)</td>\n",
       "      <td>Dante Alighieri, Dorothy L. Sayers, Barbara Re...</td>\n",
       "      <td>to-read fantasy young-adult vampires horror</td>\n",
       "    </tr>\n",
       "  </tbody>\n",
       "</table>\n",
       "</div>"
      ],
      "text/plain": [
       "                                                 title  \\\n",
       "660        Zita the Spacegirl (Zita the Spacegirl, #1)   \n",
       "129         A Voice in the Wind (Mark of the Lion, #1)   \n",
       "726  Life Before Legend: Stories of the Criminal an...   \n",
       "671                                            Bruiser   \n",
       "661                   Paradiso (The Divine Comedy, #3)   \n",
       "\n",
       "                                               authors  \\\n",
       "660                                          Ben Hatke   \n",
       "129                   Francine Rivers, Richard Ferrone   \n",
       "726                                           Marie Lu   \n",
       "671                                    Neal Shusterman   \n",
       "661  Dante Alighieri, Dorothy L. Sayers, Barbara Re...   \n",
       "\n",
       "                                            tag_string  \n",
       "660      to-read young-adult vampires horror favorites  \n",
       "129  to-read currently-reading fiction favorites yo...  \n",
       "726  to-read fiction currently-reading young-adult ...  \n",
       "671      fantasy young-adult vampires horror favorites  \n",
       "661        to-read fantasy young-adult vampires horror  "
      ]
     },
     "execution_count": 52,
     "metadata": {},
     "output_type": "execute_result"
    }
   ],
   "source": [
    "get_book_recommendations(\"The Strange Library\", books_with_tags, cosine_sim, top_n=5)\n"
   ]
  },
  {
   "cell_type": "markdown",
   "id": "5b79069f-ab58-4a45-a4b0-11752f852ea2",
   "metadata": {},
   "source": [
    "## Recommendations Explaination"
   ]
  },
  {
   "cell_type": "code",
   "execution_count": 61,
   "id": "ba4df438-0577-4066-a50a-9b45cc534f7d",
   "metadata": {},
   "outputs": [],
   "source": [
    "def explain_recommendations(title, books_df, cosine_sim_matrix, top_n=5):\n",
    "    books_df = books_df.reset_index()\n",
    "\n",
    "    indices = pd.Series(books_df.index, index=books_df['title'].str.lower())\n",
    "    idx = indices.get(title.lower())\n",
    "\n",
    "    if idx is None:\n",
    "        print(\"Book not found!\")\n",
    "        return\n",
    "\n",
    "    input_tags = set(books_df.loc[idx, 'tag_string'].split())\n",
    "\n",
    "    sim_scores = list(enumerate(cosine_sim_matrix[idx]))\n",
    "    sim_scores = sorted(sim_scores, key=lambda x: x[1], reverse=True)[1:top_n+1]\n",
    "    book_indices = [i[0] for i in sim_scores]\n",
    "\n",
    "    print(f\"\\n Because you liked: **{title}**\")\n",
    "    print(f\"Top {top_n} recommendations:\\n\")\n",
    "\n",
    "    for i in book_indices:\n",
    "        rec_title = books_df.loc[i, 'title']\n",
    "        rec_author = books_df.loc[i, 'authors']\n",
    "        rec_tags = set(books_df.loc[i, 'tag_string'].split())\n",
    "\n",
    "        shared_tags = input_tags.intersection(rec_tags)\n",
    "        print(f\"🔹 {rec_title} by {rec_author}\")\n",
    "        print(f\"    ➤ Shared tags: {', '.join(shared_tags)}\\n\")\n"
   ]
  },
  {
   "cell_type": "markdown",
   "id": "8d6ac704-1930-4348-b1a8-bba99fd550f7",
   "metadata": {},
   "source": [
    "#### Try the Recommendation Explaination "
   ]
  },
  {
   "cell_type": "code",
   "execution_count": 64,
   "id": "31728cd2-c744-44cf-a056-649c01cdaa5b",
   "metadata": {},
   "outputs": [
    {
     "name": "stdout",
     "output_type": "stream",
     "text": [
      "\n",
      " Because you liked: **The Strange Library**\n",
      "Top 5 recommendations:\n",
      "\n",
      "🔹 Zita the Spacegirl (Zita the Spacegirl, #1) by Ben Hatke\n",
      "    ➤ Shared tags: to-read, horror, young-adult, favorites\n",
      "\n",
      "🔹 A Voice in the Wind (Mark of the Lion, #1) by Francine Rivers, Richard Ferrone\n",
      "    ➤ Shared tags: to-read, currently-reading, young-adult, favorites\n",
      "\n",
      "🔹 Life Before Legend: Stories of the Criminal and the Prodigy (Legend, #0.5) by Marie Lu\n",
      "    ➤ Shared tags: to-read, currently-reading, young-adult, favorites\n",
      "\n",
      "🔹 Bruiser by Neal Shusterman\n",
      "    ➤ Shared tags: young-adult, horror, favorites\n",
      "\n",
      "🔹 Paradiso (The Divine Comedy, #3) by Dante Alighieri, Dorothy L. Sayers, Barbara Reynolds\n",
      "    ➤ Shared tags: to-read, horror, young-adult\n",
      "\n"
     ]
    }
   ],
   "source": [
    "explain_recommendations(\"The Strange Library\", books_with_tags, cosine_sim, top_n=5)\n"
   ]
  },
  {
   "cell_type": "code",
   "execution_count": 66,
   "id": "efffbbbc-92e0-4cde-b2cf-d2861e93ce6e",
   "metadata": {},
   "outputs": [
    {
     "name": "stdout",
     "output_type": "stream",
     "text": [
      "\n",
      " Because you liked: **The Fault in Our Stars**\n",
      "Top 5 recommendations:\n",
      "\n",
      "🔹 The Catcher in the Rye by J.D. Salinger\n",
      "    ➤ Shared tags: fantasy, harry-potter\n",
      "\n",
      "🔹 The Death of Ivan Ilych by Leo Tolstoy, Aylmer Maude\n",
      "    ➤ Shared tags: fantasy, fiction, harry-potter\n",
      "\n",
      "🔹 Visions in Death (In Death, #19) by J.D. Robb\n",
      "    ➤ Shared tags: young-adult, fantasy, fiction\n",
      "\n",
      "🔹 Freckle Juice by Judy Blume\n",
      "    ➤ Shared tags: young-adult, fantasy, fiction\n",
      "\n",
      "🔹 Safe with Me (With Me in Seattle, #5) by Kristen Proby\n",
      "    ➤ Shared tags: fantasy, owned, young-adult\n",
      "\n"
     ]
    }
   ],
   "source": [
    "explain_recommendations(\"The Fault in Our Stars\", books_with_tags, cosine_sim, top_n=5)"
   ]
  },
  {
   "cell_type": "code",
   "execution_count": 70,
   "id": "0040d3d6-e361-4356-a34d-569fe557bdd2",
   "metadata": {},
   "outputs": [],
   "source": [
    "np.save('../data/processed/cosine_sim.npy', cosine_sim)"
   ]
  },
  {
   "cell_type": "code",
   "execution_count": null,
   "id": "bf0844b3-e355-457a-85b3-d4467e838c0e",
   "metadata": {},
   "outputs": [],
   "source": []
  }
 ],
 "metadata": {
  "kernelspec": {
   "display_name": "Python 3 (ipykernel)",
   "language": "python",
   "name": "python3"
  },
  "language_info": {
   "codemirror_mode": {
    "name": "ipython",
    "version": 3
   },
   "file_extension": ".py",
   "mimetype": "text/x-python",
   "name": "python",
   "nbconvert_exporter": "python",
   "pygments_lexer": "ipython3",
   "version": "3.12.7"
  }
 },
 "nbformat": 4,
 "nbformat_minor": 5
}
